{
 "cells": [
  {
   "cell_type": "code",
   "execution_count": 5,
   "metadata": {},
   "outputs": [
    {
     "name": "stdout",
     "output_type": "stream",
     "text": [
      "Pattern 1 \n",
      "\n",
      "Enter a number of rows :5\n",
      " *  *  *  *  * \n",
      " *  *  *  *  * \n",
      " *  *  *  *  * \n",
      " *  *  *  *  * \n",
      " *  *  *  *  * \n"
     ]
    }
   ],
   "source": [
    "print(\"Pattern 1 \\n\")\n",
    "a=int(input(\"Enter a number of rows :\"))\n",
    "for i in range(a):\n",
    "    print(\" * \"*a)"
   ]
  },
  {
   "cell_type": "code",
   "execution_count": 8,
   "metadata": {},
   "outputs": [
    {
     "name": "stdout",
     "output_type": "stream",
     "text": [
      "Pattern 2 \n",
      "\n",
      "Enter a number of rows :5\n",
      " * \n",
      " *  * \n",
      " *  *  * \n",
      " *  *  *  * \n",
      " *  *  *  *  * \n"
     ]
    }
   ],
   "source": [
    "print(\"Pattern 2 \\n\")\n",
    "a=int(input(\"Enter a number of rows :\"))\n",
    "for i in range(1,a+1):\n",
    "    print(\" * \"*i)"
   ]
  },
  {
   "cell_type": "code",
   "execution_count": 18,
   "metadata": {},
   "outputs": [
    {
     "name": "stdout",
     "output_type": "stream",
     "text": [
      "Pattern 3 \n",
      "\n",
      "Enter the number of rows : 6\n",
      "      *\n",
      "     **\n",
      "    ***\n",
      "   ****\n",
      "  *****\n",
      " ******\n"
     ]
    }
   ],
   "source": [
    "print(\"Pattern 3 \\n\")\n",
    "a=int(input(\"Enter the number of rows : \"))\n",
    "for i in range(1,a+1):\n",
    "    print(\" \"*(a-i) ,\"*\"*i)"
   ]
  },
  {
   "cell_type": "code",
   "execution_count": 24,
   "metadata": {},
   "outputs": [
    {
     "name": "stdout",
     "output_type": "stream",
     "text": [
      "Pattern 4 \n",
      "\n",
      "Enter the number of rows : 6\n",
      "      * \n",
      "     * * \n",
      "    * * * \n",
      "   * * * * \n",
      "  * * * * * \n",
      " * * * * * * \n"
     ]
    }
   ],
   "source": [
    "print(\"Pattern 4 \\n\")\n",
    "a=int(input(\"Enter the number of rows : \"))\n",
    "for i in range(1,a+1):\n",
    "    print(\" \"*(a-i) ,\"* \"*i)"
   ]
  },
  {
   "cell_type": "code",
   "execution_count": 35,
   "metadata": {},
   "outputs": [
    {
     "name": "stdout",
     "output_type": "stream",
     "text": [
      "Pattern 5 \n",
      "\n",
      "Enter the number of rows : 6\n",
      "      * \n",
      "     * * \n",
      "    * * * \n",
      "   * * * * \n",
      "  * * * * * \n",
      " * * * * * * \n",
      " * * * * * * \n",
      "  * * * * * \n",
      "   * * * * \n",
      "    * * * \n",
      "     * * \n",
      "      * \n"
     ]
    }
   ],
   "source": [
    "print(\"Pattern 5 \\n\")\n",
    "a=int(input(\"Enter the number of rows : \"))\n",
    "for i in range(1,a+1):\n",
    "    print(\" \"*(a-i) ,\"* \"*i)\n",
    "for i in range(a,0,-1):\n",
    "    print(\" \"*(a-i) ,\"* \"*i)"
   ]
  },
  {
   "cell_type": "code",
   "execution_count": 36,
   "metadata": {},
   "outputs": [
    {
     "name": "stdout",
     "output_type": "stream",
     "text": [
      "Pattern 6 \n",
      "\n",
      "Enter the number of rows : 6\n",
      "*\n",
      "**\n",
      "***\n",
      "****\n",
      "*****\n",
      "******\n"
     ]
    }
   ],
   "source": [
    "print(\"Pattern 6 \\n\")\n",
    "a=int(input(\"Enter the number of rows : \"))\n",
    "for i in range(1,a+1):\n",
    "    print(\"*\"*i)"
   ]
  },
  {
   "cell_type": "code",
   "execution_count": 44,
   "metadata": {},
   "outputs": [
    {
     "name": "stdout",
     "output_type": "stream",
     "text": [
      "Pattern 7 \n",
      "\n",
      "Enter the no of rows7\n",
      "  * * * * * * *\n",
      "   * * * * * *\n",
      "    * * * * *\n",
      "     * * * *\n",
      "      * * *\n",
      "       * *\n",
      "        *\n"
     ]
    }
   ],
   "source": [
    "print(\"Pattern 7 \\n\")\n",
    "a=int(input(\"Enter the no of rows\"))\n",
    "for i in range(a,0,-1):\n",
    "    print(\" \"*(a-i), \" *\"*i)"
   ]
  },
  {
   "cell_type": "code",
   "execution_count": 46,
   "metadata": {},
   "outputs": [
    {
     "name": "stdout",
     "output_type": "stream",
     "text": [
      "Pattern 8 \n",
      "\n",
      "Enter the no of rows6\n",
      "  * * * * * *\n",
      "    * * * * *\n",
      "      * * * *\n",
      "        * * *\n",
      "          * *\n",
      "            *\n"
     ]
    }
   ],
   "source": [
    "print(\"Pattern 8 \\n\")\n",
    "a=int(input(\"Enter the no of rows\"))\n",
    "for i in range(a,0,-1):\n",
    "    print(\"  \"*(a-i), \" *\"*i)"
   ]
  },
  {
   "cell_type": "code",
   "execution_count": 53,
   "metadata": {},
   "outputs": [
    {
     "name": "stdout",
     "output_type": "stream",
     "text": [
      "Pattern 9 \n",
      "\n",
      "Enter the no of rows 6\n",
      " * * * * * *\n",
      " * * * * *\n",
      " * * * *\n",
      " * * *\n",
      " * *\n",
      " *\n"
     ]
    }
   ],
   "source": [
    "print(\"Pattern 9 \\n\")\n",
    "a=int(input(\"Enter the no of rows \"))\n",
    "for i in range(a,0,-1):\n",
    "    print(\" *\"*i)"
   ]
  },
  {
   "cell_type": "code",
   "execution_count": 60,
   "metadata": {},
   "outputs": [
    {
     "name": "stdout",
     "output_type": "stream",
     "text": [
      "Pattern 10 \n",
      "\n",
      "Enter the no of rows7\n",
      " *\n",
      " **\n",
      " ***\n",
      " ****\n",
      " *****\n",
      " ******\n",
      " *******\n",
      " *******\n",
      " ******\n",
      " *****\n",
      " ****\n",
      " ***\n",
      " **\n",
      " *\n"
     ]
    }
   ],
   "source": [
    "print(\"Pattern 10 \\n\")\n",
    "a=int(input(\"Enter the no of rows\"))\n",
    "for i in range(1,a+1):\n",
    "    print(\"\"*(a-i), \"*\"*i)\n",
    "for i in range(a,0,-1):\n",
    "    print(\"\"*(a-i), \"*\"*i)"
   ]
  },
  {
   "cell_type": "code",
   "execution_count": 61,
   "metadata": {},
   "outputs": [
    {
     "name": "stdout",
     "output_type": "stream",
     "text": [
      "Pattern 11 \n",
      "\n",
      "Enter the no of rows7\n",
      "       *\n",
      "      **\n",
      "     ***\n",
      "    ****\n",
      "   *****\n",
      "  ******\n",
      " *******\n",
      " *******\n",
      "  ******\n",
      "   *****\n",
      "    ****\n",
      "     ***\n",
      "      **\n",
      "       *\n"
     ]
    }
   ],
   "source": [
    "print(\"Pattern 11 \\n\")\n",
    "a=int(input(\"Enter the no of rows\"))\n",
    "for i in range(1,a+1):\n",
    "    print(\" \"*(a-i), \"*\"*i)\n",
    "for i in range(a,0,-1):\n",
    "    print(\" \"*(a-i), \"*\"*i)"
   ]
  },
  {
   "cell_type": "code",
   "execution_count": 67,
   "metadata": {},
   "outputs": [
    {
     "name": "stdout",
     "output_type": "stream",
     "text": [
      "Pattern 12\n",
      "\n",
      "1 \n",
      "\n",
      "1 2 \n",
      "\n",
      "1 2 3 \n",
      "\n",
      "1 2 3 4 \n",
      "\n",
      "1 2 3 4 5 \n",
      "\n"
     ]
    }
   ],
   "source": [
    "print(\"Pattern 12\\n\")\n",
    "for i in range(2,7):\n",
    "    for j in range(1,i):\n",
    "        print(j,end=\" \")\n",
    "    print(\"\\n\")"
   ]
  },
  {
   "cell_type": "code",
   "execution_count": 71,
   "metadata": {},
   "outputs": [
    {
     "name": "stdout",
     "output_type": "stream",
     "text": [
      "Pattern 13\n",
      "\n",
      "1\n",
      "\n",
      "22\n",
      "\n",
      "333\n",
      "\n",
      "4444\n",
      "\n",
      "55555\n",
      "\n",
      "666666\n",
      "\n"
     ]
    }
   ],
   "source": [
    "print(\"Pattern 13\\n\")\n",
    "for i in range(1,7):\n",
    "    for j in range(0,i):\n",
    "        print(i,end=\"\")\n",
    "    print(\"\\n\")"
   ]
  },
  {
   "cell_type": "code",
   "execution_count": 80,
   "metadata": {},
   "outputs": [
    {
     "name": "stdout",
     "output_type": "stream",
     "text": [
      "Pattern 14\n",
      "\n",
      "1\n",
      "\n",
      "12\n",
      "\n",
      "123\n",
      "\n",
      "1234\n",
      "\n",
      "12345\n",
      "\n",
      "1234\n",
      "\n",
      "123\n",
      "\n",
      "12\n",
      "\n",
      "1\n",
      "\n",
      "\n",
      "\n"
     ]
    }
   ],
   "source": [
    "print(\"Pattern 14\\n\")\n",
    "for i in range(2,7):\n",
    "    for j in range(1,i):\n",
    "        print(j,end=\"\")\n",
    "    print(\"\\n\")\n",
    "for i in range(6,1,-1):\n",
    "    for j in range(1,j):\n",
    "        print(j,end=\"\")\n",
    "    print(\"\\n\")"
   ]
  },
  {
   "cell_type": "code",
   "execution_count": 81,
   "metadata": {},
   "outputs": [
    {
     "name": "stdout",
     "output_type": "stream",
     "text": [
      "Patterns 15\n",
      "\n",
      "          1 \n",
      "\n",
      "         1 2 \n",
      "\n",
      "        1 2 3 \n",
      "\n",
      "       1 2 3 4 \n",
      "\n",
      "      1 2 3 4 5 \n",
      "\n",
      "       1 2 3 4 \n",
      "\n",
      "        1 2 3 \n",
      "\n",
      "         1 2 \n",
      "\n",
      "          1 \n",
      "\n"
     ]
    }
   ],
   "source": [
    "print(\"Patterns 15\\n\")\n",
    "k = 10\n",
    "for i in range(1, 6): \n",
    "    for j in range(0, k): \n",
    "        print(end=\" \")\n",
    "    k = k -1\n",
    "    for l in range(1, i+1): \n",
    "        print(l,\"\", end=\"\") \n",
    "    print('\\n')\n",
    "\n",
    "for i in range(4, 0,-1): \n",
    "    for j in range(0, k+2): \n",
    "        print(end=\" \")\n",
    "    k = k +1\n",
    "    for l in range(1, i+1): \n",
    "        print(l,\"\", end=\"\") \n",
    "    print('\\n')\n"
   ]
  },
  {
   "cell_type": "code",
   "execution_count": null,
   "metadata": {},
   "outputs": [],
   "source": []
  }
 ],
 "metadata": {
  "kernelspec": {
   "display_name": "Python 3",
   "language": "python",
   "name": "python3"
  },
  "language_info": {
   "codemirror_mode": {
    "name": "ipython",
    "version": 3
   },
   "file_extension": ".py",
   "mimetype": "text/x-python",
   "name": "python",
   "nbconvert_exporter": "python",
   "pygments_lexer": "ipython3",
   "version": "3.7.4"
  }
 },
 "nbformat": 4,
 "nbformat_minor": 2
}
